{
 "cells": [
  {
   "cell_type": "code",
   "execution_count": 3,
   "id": "6c51481b",
   "metadata": {},
   "outputs": [
    {
     "name": "stdout",
     "output_type": "stream",
     "text": [
      "2\n",
      "4\n",
      "24\n"
     ]
    }
   ],
   "source": [
    "A=input()\n",
    "B=input()\n",
    "print(A+B)"
   ]
  },
  {
   "cell_type": "code",
   "execution_count": null,
   "id": "15f94f5c",
   "metadata": {},
   "outputs": [],
   "source": []
  },
  {
   "cell_type": "code",
   "execution_count": 4,
   "id": "523e59fa",
   "metadata": {},
   "outputs": [
    {
     "name": "stdout",
     "output_type": "stream",
     "text": [
      "2\n",
      "4\n",
      "6\n"
     ]
    }
   ],
   "source": [
    "A = int(input())\n",
    "B = int (input())\n",
    "print(A+B)"
   ]
  },
  {
   "cell_type": "code",
   "execution_count": 10,
   "id": "89e0633e",
   "metadata": {},
   "outputs": [
    {
     "name": "stdout",
     "output_type": "stream",
     "text": [
      "2\n",
      "4\n"
     ]
    },
    {
     "data": {
      "text/plain": [
       "24"
      ]
     },
     "execution_count": 10,
     "metadata": {},
     "output_type": "execute_result"
    }
   ],
   "source": [
    "A=input()\n",
    "B=input()\n",
    "int ( (A+B))\n"
   ]
  },
  {
   "cell_type": "code",
   "execution_count": 4,
   "id": "8b695e7c",
   "metadata": {},
   "outputs": [
    {
     "name": "stdout",
     "output_type": "stream",
     "text": [
      "40\n",
      "the naumber is less than 50\n",
      "gomycody is located downtown\n"
     ]
    }
   ],
   "source": [
    "x = int(input())\n",
    "\n",
    "if x < 50:\n",
    "     print(\"the naumber is less than 50\")\n",
    "print(\"gomycody is located downtown\")"
   ]
  },
  {
   "cell_type": "code",
   "execution_count": 11,
   "id": "9018288f",
   "metadata": {},
   "outputs": [
    {
     "name": "stdout",
     "output_type": "stream",
     "text": [
      "70\n",
      "the number is between 50 and 100\n",
      "gomycody is located downtown\n"
     ]
    }
   ],
   "source": [
    "x = int(input())\n",
    "\n",
    "if x < 50:\n",
    "    print(\"the naumber is less than 50\")\n",
    "    \n",
    "elif x > 50 and x <101:\n",
    "      print (\"the number is between 50 and 100\")\n",
    "else :\n",
    "    (\" the naumber is\")\n",
    "    \n",
    "print(\"gomycody is located downtown\")\n"
   ]
  },
  {
   "cell_type": "code",
   "execution_count": 15,
   "id": "aaaea97c",
   "metadata": {},
   "outputs": [
    {
     "ename": "SyntaxError",
     "evalue": "invalid syntax (1657152617.py, line 2)",
     "output_type": "error",
     "traceback": [
      "\u001b[0;36m  Input \u001b[0;32mIn [15]\u001b[0;36m\u001b[0m\n\u001b[0;31m    if x= in i\u001b[0m\n\u001b[0m        ^\u001b[0m\n\u001b[0;31mSyntaxError\u001b[0m\u001b[0;31m:\u001b[0m invalid syntax\n"
     ]
    }
   ],
   "source": [
    "x = int (input())\n",
    "if x= in i \n",
    "    print (\"gomycode is nice company\")\n",
    "else :\n",
    "   \n",
    "    "
   ]
  },
  {
   "cell_type": "code",
   "execution_count": null,
   "id": "7430b0e8",
   "metadata": {},
   "outputs": [],
   "source": [
    "sent\"gomycode is nice company\"\n",
    "c1 = input(\"please enter 1 character\")\n",
    "if c1 in sent .lower() or  c1 in sent .uper()\n",
    "   print(\"fawed\")\n",
    "    \n",
    "else \n"
   ]
  },
  {
   "cell_type": "code",
   "execution_count": 24,
   "id": "c0e7b7c7",
   "metadata": {},
   "outputs": [
    {
     "name": "stdout",
     "output_type": "stream",
     "text": [
      "Ahmed\n",
      "Adel\n",
      "Adel Ahmed\n"
     ]
    }
   ],
   "source": [
    "z = (input ())\n",
    "r = (input ())\n",
    "print (r,z)"
   ]
  },
  {
   "cell_type": "code",
   "execution_count": null,
   "id": "5a8cad93",
   "metadata": {},
   "outputs": [],
   "source": [
    "n=int(input(\"5\")\n",
    "      \n",
    "      \n",
    "print (5)+(5*11)+(5*111)"
   ]
  },
  {
   "cell_type": "code",
   "execution_count": 1,
   "id": "d3adb5cc",
   "metadata": {},
   "outputs": [
    {
     "name": "stdout",
     "output_type": "stream",
     "text": [
      "1\n",
      "3\n",
      "15\n",
      "105\n"
     ]
    }
   ],
   "source": [
    "h = 1\n",
    "for i in range (1,9,2):\n",
    "    h *= i\n",
    "    print (h)"
   ]
  },
  {
   "cell_type": "code",
   "execution_count": 4,
   "id": "43ee658c",
   "metadata": {},
   "outputs": [
    {
     "name": "stdout",
     "output_type": "stream",
     "text": [
      "hlota"
     ]
    }
   ],
   "source": [
    "stri = \"hello team\"\n",
    "for i in range (len (stri)):\n",
    "     if i % 2 == 0:\n",
    "            print (stri [i],end =\"\")"
   ]
  },
  {
   "cell_type": "code",
   "execution_count": null,
   "id": "ef350ad4",
   "metadata": {},
   "outputs": [],
   "source": []
  }
 ],
 "metadata": {
  "kernelspec": {
   "display_name": "Python 3 (ipykernel)",
   "language": "python",
   "name": "python3"
  },
  "language_info": {
   "codemirror_mode": {
    "name": "ipython",
    "version": 3
   },
   "file_extension": ".py",
   "mimetype": "text/x-python",
   "name": "python",
   "nbconvert_exporter": "python",
   "pygments_lexer": "ipython3",
   "version": "3.9.12"
  }
 },
 "nbformat": 4,
 "nbformat_minor": 5
}
