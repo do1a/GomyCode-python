{
 "cells": [
  {
   "cell_type": "code",
   "execution_count": 1,
   "id": "4ab3c6d1",
   "metadata": {},
   "outputs": [
    {
     "name": "stdout",
     "output_type": "stream",
     "text": [
      "Original array: array('i', [1, 3, 5, 3, 7, 1, 9, 3])\n",
      "Convert the said array to an ordinary list with the same items:\n",
      "[1, 3, 5, 3, 7, 1, 9, 3]\n"
     ]
    }
   ],
   "source": [
    "from array import *\n",
    "array_num = array('i', [1, 3, 5, 3, 7, 1, 9, 3])\n",
    "print(\"Original array: \"+str(array_num))\n",
    "num_list = array_num.tolist()\n",
    "print(\"Convert the said array to an ordinary list with the same items:\")\n",
    "print(num_list)"
   ]
  },
  {
   "cell_type": "code",
   "execution_count": 2,
   "id": "bf1b73fb",
   "metadata": {},
   "outputs": [
    {
     "name": "stdout",
     "output_type": "stream",
     "text": [
      "Original matrix:\n",
      "[[0 1 2]\n",
      " [3 4 5]]\n",
      "Condition number of the said matrix:\n",
      "4\n"
     ]
    }
   ],
   "source": [
    "import numpy as np\n",
    "m = np.arange(6).reshape(2,3)\n",
    "print(\"Original matrix:\")\n",
    "print(m)\n",
    "result =  np.trace(m)\n",
    "print(\"Condition number of the said matrix:\")\n",
    "print(result)"
   ]
  },
  {
   "cell_type": "code",
   "execution_count": 3,
   "id": "0cd07926",
   "metadata": {},
   "outputs": [
    {
     "name": "stdout",
     "output_type": "stream",
     "text": [
      "Original array: \n",
      "[[ 0 10 20]\n",
      " [20 30 40]]\n",
      "Values bigger than 10 = [20 20 30 40]\n",
      "Their indices are  (array([0, 1, 1, 1]), array([2, 0, 1, 2]))\n"
     ]
    }
   ],
   "source": [
    "import numpy as np\n",
    "x = np.array([[0, 10, 20], [20, 30, 40]])\n",
    "print(\"Original array: \")\n",
    "print(x)\n",
    "print(\"Values bigger than 10 =\", x[x>10])\n",
    "print(\"Their indices are \", np.nonzero(x > 10))"
   ]
  },
  {
   "cell_type": "code",
   "execution_count": 4,
   "id": "a19d0667",
   "metadata": {},
   "outputs": [
    {
     "name": "stdout",
     "output_type": "stream",
     "text": [
      "Original array:\n",
      "Array-1\n",
      "[[1. 1. 1.]\n",
      " [1. 1. 1.]\n",
      " [1. 1. 1.]]\n",
      "Array-2\n",
      "[0 1 2]\n",
      "A + B:\n",
      "[[1. 2. 3.]\n",
      " [1. 2. 3.]\n",
      " [1. 2. 3.]]\n"
     ]
    }
   ],
   "source": [
    "import numpy as np\n",
    "A = np.ones((3,3))\n",
    "B = np.arange(3)\n",
    "print(\"Original array:\")\n",
    "print(\"Array-1\")\n",
    "print(A)\n",
    "print(\"Array-2\")\n",
    "print(B)\n",
    "print(\"A + B:\")\n",
    "new_array = A + B\n",
    "print(new_array)"
   ]
  },
  {
   "cell_type": "code",
   "execution_count": 5,
   "id": "c20799f0",
   "metadata": {},
   "outputs": [
    {
     "name": "stdout",
     "output_type": "stream",
     "text": [
      "Original matrix:\n",
      "\n",
      "[[0.18619408 0.18521547 0.75691088 0.67578056 0.69970134 0.54563976\n",
      "  0.50046262 0.46932893 0.56260823 0.11708404]\n",
      " [0.8256244  0.99117313 0.58727189 0.7202517  0.0311286  0.34077099\n",
      "  0.30186945 0.93828676 0.37816969 0.62248125]\n",
      " [0.5690764  0.75031694 0.31480924 0.77275092 0.28620818 0.17076799\n",
      "  0.43311266 0.48148709 0.56607601 0.38789159]\n",
      " [0.89092352 0.92074263 0.61251549 0.6412783  0.1264144  0.46421107\n",
      "  0.30096991 0.56719554 0.5718131  0.85921991]\n",
      " [0.28067294 0.11918368 0.70040448 0.26066166 0.25447079 0.5080824\n",
      "  0.61491878 0.999094   0.44478706 0.62593908]]\n",
      "\n",
      "Subtract the mean of each row of the said matrix:\n",
      "\n",
      "[[-0.28369851 -0.28467712  0.28701829  0.20588797  0.22980875  0.07574717\n",
      "   0.03057003 -0.00056367  0.09271564 -0.35280855]\n",
      " [ 0.25192162  0.41747034  0.01356911  0.14654891 -0.54257419 -0.23293179\n",
      "  -0.27183333  0.36458397 -0.1955331   0.04877847]\n",
      " [ 0.0958267   0.27706724 -0.15844046  0.29950122 -0.18704153 -0.30248171\n",
      "  -0.04013705  0.00823739  0.09282631 -0.08535811]\n",
      " [ 0.29539514  0.32521424  0.01698711  0.04574991 -0.46911399 -0.13131732\n",
      "  -0.29455847 -0.02833285 -0.02371529  0.26369152]\n",
      " [-0.20014854 -0.36163781  0.219583   -0.22015983 -0.2263507   0.02726091\n",
      "   0.13409729  0.51827251 -0.03603443  0.1451176 ]]\n"
     ]
    }
   ],
   "source": [
    "import numpy as np\n",
    "print(\"Original matrix:\\n\")\n",
    "X = np.random.rand(5, 10)\n",
    "print(X)\n",
    "print(\"\\nSubtract the mean of each row of the said matrix:\\n\")\n",
    "Y = X - X.mean(axis=1, keepdims=True)\n",
    "print(Y)"
   ]
  },
  {
   "cell_type": "code",
   "execution_count": null,
   "id": "f247d441",
   "metadata": {},
   "outputs": [],
   "source": []
  }
 ],
 "metadata": {
  "kernelspec": {
   "display_name": "Python 3 (ipykernel)",
   "language": "python",
   "name": "python3"
  },
  "language_info": {
   "codemirror_mode": {
    "name": "ipython",
    "version": 3
   },
   "file_extension": ".py",
   "mimetype": "text/x-python",
   "name": "python",
   "nbconvert_exporter": "python",
   "pygments_lexer": "ipython3",
   "version": "3.9.12"
  }
 },
 "nbformat": 4,
 "nbformat_minor": 5
}
