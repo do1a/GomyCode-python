{
 "cells": [
  {
   "cell_type": "code",
   "execution_count": 13,
   "id": "5f6d6d3a",
   "metadata": {},
   "outputs": [
    {
     "data": {
      "text/plain": [
       "35"
      ]
     },
     "execution_count": 13,
     "metadata": {},
     "output_type": "execute_result"
    }
   ],
   "source": [
    "f = [20, 35, 19]\n",
    "\n",
    "def hm (f):\n",
    "    y = 0\n",
    "    for i in f:\n",
    "        if i > y:\n",
    "            y = i\n",
    "    return(y)\n",
    "\n",
    "hm(f)\n",
    "    \n",
    " \n",
    "\n",
    " "
   ]
  },
  {
   "cell_type": "code",
   "execution_count": 21,
   "id": "0cf54f2a",
   "metadata": {},
   "outputs": [
    {
     "data": {
      "text/plain": [
       "(1, 11)"
      ]
     },
     "execution_count": 21,
     "metadata": {},
     "output_type": "execute_result"
    }
   ],
   "source": [
    "def calculation (a,b):\n",
    "    sub = a-b\n",
    "    add = a + b\n",
    "    return sub , add\n",
    "calculation (6,5)"
   ]
  },
  {
   "cell_type": "code",
   "execution_count": 62,
   "id": "0481abd4",
   "metadata": {},
   "outputs": [
    {
     "name": "stdout",
     "output_type": "stream",
     "text": [
      "18\n",
      "1\n"
     ]
    }
   ],
   "source": [
    "h = [4,2,1,8,3,7,10,11]\n",
    "\n",
    "def su(m):\n",
    "    result = 0\n",
    "    for i in m:\n",
    "        result = result + i\n",
    "    return result\n",
    "    \n",
    "def mu(m):\n",
    "    result = 1\n",
    "    for i in m:\n",
    "        result = result * 1\n",
    "    return result\n",
    "    \n",
    "evenl = []\n",
    "oldl = []\n",
    "\n",
    "for i in range(len (h)):\n",
    "    if i % 2 == 0:\n",
    "        evenl.append(h[i])\n",
    "    else:\n",
    "        oldl.append(h[i])\n",
    "print(su(evenl))\n",
    "print(mu(oldl))"
   ]
  },
  {
   "cell_type": "code",
   "execution_count": 16,
   "id": "ae8b3d9c",
   "metadata": {},
   "outputs": [
    {
     "data": {
      "text/plain": [
       "'A'"
      ]
     },
     "execution_count": 16,
     "metadata": {},
     "output_type": "execute_result"
    }
   ],
   "source": [
    "d = {\"name\":\"ahmed\",\"age\":27}\n",
    "\n",
    "y = d[\"name\"]\n",
    "y[0].capitalize()"
   ]
  },
  {
   "cell_type": "code",
   "execution_count": 35,
   "id": "ed16c6fa",
   "metadata": {},
   "outputs": [
    {
     "name": "stdout",
     "output_type": "stream",
     "text": [
      "mg\n"
     ]
    }
   ],
   "source": [
    "d = {\"name\":\"ahmed\",\"car\":\"mg\",\"house\":\"cairo\"}\n",
    "\n",
    "def longest(d):\n",
    "    \n",
    "    h = []\n",
    "    for i in d.values():\n",
    "            h.append(i)\n",
    "    print(max(h))\n",
    "\n",
    "        \n",
    "longest(d)"
   ]
  },
  {
   "cell_type": "code",
   "execution_count": 37,
   "id": "14c9a58b",
   "metadata": {},
   "outputs": [
    {
     "name": "stdout",
     "output_type": "stream",
     "text": [
      "green-red-yellow-black-white\n"
     ]
    }
   ],
   "source": [
    "y = \"green-red-yellow-black-white\"\n",
    "\n",
    "z = y.split(\"_\")\n",
    "z. sort ()\n",
    "print(\"-\".join(z))\n"
   ]
  },
  {
   "cell_type": "code",
   "execution_count": 56,
   "id": "06fc5d84",
   "metadata": {},
   "outputs": [
    {
     "name": "stdout",
     "output_type": "stream",
     "text": [
      "enter your numbers is a comma-separated sequence: 100,150,180\n",
      "[18, 22, 24]\n"
     ]
    }
   ],
   "source": [
    "def sqrr (entry):\n",
    "     value = []\n",
    "     for i in entry:\n",
    "            k = (2 * 50 * int (i) / 30) ** 0.5\n",
    "            value.append(int(k))\n",
    "    \n",
    "     return(value)\n",
    "\n",
    "x = input(\"enter your numbers is a comma-separated sequence: \")\n",
    "x = x.split(\",\")\n",
    "\n",
    "print(sqrr(x))"
   ]
  },
  {
   "cell_type": "code",
   "execution_count": null,
   "id": "805ef92e",
   "metadata": {},
   "outputs": [],
   "source": []
  }
 ],
 "metadata": {
  "kernelspec": {
   "display_name": "Python 3 (ipykernel)",
   "language": "python",
   "name": "python3"
  },
  "language_info": {
   "codemirror_mode": {
    "name": "ipython",
    "version": 3
   },
   "file_extension": ".py",
   "mimetype": "text/x-python",
   "name": "python",
   "nbconvert_exporter": "python",
   "pygments_lexer": "ipython3",
   "version": "3.9.12"
  }
 },
 "nbformat": 4,
 "nbformat_minor": 5
}
