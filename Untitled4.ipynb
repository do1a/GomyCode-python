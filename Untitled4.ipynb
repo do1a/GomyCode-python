{
 "cells": [
  {
   "cell_type": "code",
   "execution_count": 13,
   "id": "5f6d6d3a",
   "metadata": {},
   "outputs": [
    {
     "data": {
      "text/plain": [
       "35"
      ]
     },
     "execution_count": 13,
     "metadata": {},
     "output_type": "execute_result"
    }
   ],
   "source": [
    "f = [20, 35, 19]\n",
    "\n",
    "def hm (f):\n",
    "    y = 0\n",
    "    for i in f:\n",
    "        if i > y:\n",
    "            y = i\n",
    "    return(y)\n",
    "\n",
    "hm(f)\n",
    "    \n",
    " \n",
    "\n",
    " "
   ]
  },
  {
   "cell_type": "code",
   "execution_count": 21,
   "id": "0cf54f2a",
   "metadata": {},
   "outputs": [
    {
     "data": {
      "text/plain": [
       "(1, 11)"
      ]
     },
     "execution_count": 21,
     "metadata": {},
     "output_type": "execute_result"
    }
   ],
   "source": [
    "def calculation (a,b):\n",
    "    sub = a-b\n",
    "    add = a + b\n",
    "    return sub , add\n",
    "calculation (6,5)"
   ]
  },
  {
   "cell_type": "code",
   "execution_count": 15,
   "id": "0481abd4",
   "metadata": {},
   "outputs": [
    {
     "ename": "IndentationError",
     "evalue": "unindent does not match any outer indentation level (<tokenize>, line 7)",
     "output_type": "error",
     "traceback": [
      "\u001b[0;36m  File \u001b[0;32m<tokenize>:7\u001b[0;36m\u001b[0m\n\u001b[0;31m    return result\u001b[0m\n\u001b[0m    ^\u001b[0m\n\u001b[0;31mIndentationError\u001b[0m\u001b[0;31m:\u001b[0m unindent does not match any outer indentation level\n"
     ]
    }
   ],
   "source": [
    "h = [4,2,1,8,3,7,10,11]\n",
    "\n",
    "def su(m):\n",
    "    result = 0\n",
    "    for i in m:\n",
    "           result = result + i\n",
    "        return result\n",
    "    \n",
    "def mu(m):\n",
    "    result = 1\n",
    "    for i in m:\n",
    "           result = result * 1\n",
    "        return result\n",
    "    \n",
    "evenl = []\n",
    "oldl = []\n",
    "\n",
    "for i in range(len (h)):\n",
    "    if i % 2 == 0:\n",
    "        evenl.append(h[i])\n",
    "        else:\n",
    "            oddl.append(h[i])\n",
    "print(su(evenl))\n",
    "print(mu(oddl))"
   ]
  },
  {
   "cell_type": "code",
   "execution_count": 16,
   "id": "ae8b3d9c",
   "metadata": {},
   "outputs": [
    {
     "data": {
      "text/plain": [
       "'A'"
      ]
     },
     "execution_count": 16,
     "metadata": {},
     "output_type": "execute_result"
    }
   ],
   "source": [
    "d = {\"name\":\"ahmed\",\"age\":27}\n",
    "\n",
    "y = d[\"name\"]\n",
    "y[0].capitalize()"
   ]
  },
  {
   "cell_type": "code",
   "execution_count": 35,
   "id": "30fe01dc",
   "metadata": {},
   "outputs": [
    {
     "name": "stdout",
     "output_type": "stream",
     "text": [
      "mg\n"
     ]
    }
   ],
   "source": [
    "d = {\"name\":\"ahmed\",\"car\":\"mg\",\"house\":\"cairo\"}\n",
    "\n",
    "def longest(d):\n",
    "    \n",
    "    h = []\n",
    "    for i in d.values():\n",
    "            h.append(i)\n",
    "    print(max(h))\n",
    "\n",
    "        \n",
    "longest(d)"
   ]
  },
  {
   "cell_type": "code",
   "execution_count": null,
   "id": "a2c00b4d",
   "metadata": {},
   "outputs": [],
   "source": []
  }
 ],
 "metadata": {
  "kernelspec": {
   "display_name": "Python 3 (ipykernel)",
   "language": "python",
   "name": "python3"
  },
  "language_info": {
   "codemirror_mode": {
    "name": "ipython",
    "version": 3
   },
   "file_extension": ".py",
   "mimetype": "text/x-python",
   "name": "python",
   "nbconvert_exporter": "python",
   "pygments_lexer": "ipython3",
   "version": "3.9.12"
  }
 },
 "nbformat": 4,
 "nbformat_minor": 5
}
