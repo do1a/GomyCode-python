{
  "nbformat": 4,
  "nbformat_minor": 0,
  "metadata": {
    "colab": {
      "provenance": []
    },
    "kernelspec": {
      "name": "python3",
      "display_name": "Python 3"
    },
    "language_info": {
      "name": "python"
    }
  },
  "cells": [
    {
      "cell_type": "code",
      "execution_count": 2,
      "metadata": {
        "colab": {
          "base_uri": "https://localhost:8080/"
        },
        "id": "JC25uaoR8rOD",
        "outputId": "4b22084a-fb8f-4059-c77c-112b2ffec7a5"
      },
      "outputs": [
        {
          "output_type": "execute_result",
          "data": {
            "text/plain": [
              "['What is Python language?                                                \\n',\n",
              " 'Python is a widely used high-level, general-purpose, interpreted, dynamic programming language.Its design philosophy emphasizes code readability, and its syntax allows programmers to express concepts in fewer lines of code than possible in \\n',\n",
              " 'languages such as C++ or Java. \\n',\n",
              " 'Python supports multiple programming paradigms, including object-oriented, imperative and functional programming or procedural styles. It features a dynamic type system and automatic memory management and has a large and comprehensive standard library.The best way we learn anything is by practice and exercise questions. We  have started this section for those (beginner to intermediate) who are familiar with Python.']"
            ]
          },
          "metadata": {},
          "execution_count": 2
        }
      ],
      "source": [
        "f = open(\"/content/python.txt\")\n",
        "f.readlines()"
      ]
    },
    {
      "cell_type": "code",
      "source": [
        "f = open(\"/content/python.txt\")\n",
        "for i in range (2):\n",
        "  line = f.readline\n",
        "  "
      ],
      "metadata": {
        "colab": {
          "base_uri": "https://localhost:8080/"
        },
        "id": "2s3b-aSC85Tt",
        "outputId": "935349db-d08e-4e3b-d897-9d9030988e3e"
      },
      "execution_count": 3,
      "outputs": [
        {
          "output_type": "stream",
          "name": "stdout",
          "text": [
            "What is Python language?                                                \n",
            "\n",
            "Python is a widely used high-level, general-purpose, interpreted, dynamic programming language.Its design philosophy emphasizes code readability, and its syntax allows programmers to express concepts in fewer lines of code than possible in \n",
            "\n"
          ]
        }
      ]
    },
    {
      "cell_type": "code",
      "source": [
        "def lasten (name,n):\n",
        "  with open(name) as f:\n",
        "    for i in (f.readlines()[-n:]):\n",
        "       print(i)\n",
        "lasten(\"/content/python.txt\",2)"
      ],
      "metadata": {
        "colab": {
          "base_uri": "https://localhost:8080/"
        },
        "id": "jaw7p4wUBf9s",
        "outputId": "6035199d-ffd0-47a6-92c3-230bde2f6c45"
      },
      "execution_count": 9,
      "outputs": [
        {
          "output_type": "stream",
          "name": "stdout",
          "text": [
            "languages such as C++ or Java. \n",
            "\n",
            "Python supports multiple programming paradigms, including object-oriented, imperative and functional programming or procedural styles. It features a dynamic type system and automatic memory management and has a large and comprehensive standard library.The best way we learn anything is by practice and exercise questions. We  have started this section for those (beginner to intermediate) who are familiar with Python.\n"
          ]
        }
      ]
    },
    {
      "cell_type": "code",
      "source": [
        "f =open(\"/content/python.txt\")\n",
        "data = f.read()\n",
        "print(len(data.split(\" \")))"
      ],
      "metadata": {
        "colab": {
          "base_uri": "https://localhost:8080/"
        },
        "id": "fI87wvCKCars",
        "outputId": "f9b1e20a-b3e0-4b32-85ea-ecd0bc71505f"
      },
      "execution_count": 13,
      "outputs": [
        {
          "output_type": "stream",
          "name": "stdout",
          "text": [
            "148\n"
          ]
        }
      ]
    }
  ]
}