{
 "cells": [
  {
   "cell_type": "code",
   "execution_count": 7,
   "id": "02d245de",
   "metadata": {},
   "outputs": [
    {
     "name": "stdout",
     "output_type": "stream",
     "text": [
      "36\n"
     ]
    }
   ],
   "source": [
    "y = [2,3,6]\n",
    "counter = 1\n",
    "for i in y:\n",
    "   counter = counter * i\n",
    "print (counter)\n",
    "    "
   ]
  },
  {
   "cell_type": "code",
   "execution_count": 12,
   "id": "8278cb2a",
   "metadata": {},
   "outputs": [
    {
     "name": "stdout",
     "output_type": "stream",
     "text": [
      "[(1, 2), (1, 2), (2, 1), (2, 1), (2, 1)]\n"
     ]
    }
   ],
   "source": [
    "m = [(2, 5), (1, 2), (4, 4), (2, 3), (2, 1)]\n",
    "for j in range (len(m)):\n",
    "    for i in range (len(m)-1):\n",
    "        if m [i][1] > m[i+1][1]:\n",
    "             m[i],m[1] = m[i+1],m[1]\n",
    "print (m)"
   ]
  },
  {
   "cell_type": "code",
   "execution_count": 13,
   "id": "648ff698",
   "metadata": {},
   "outputs": [
    {
     "name": "stdout",
     "output_type": "stream",
     "text": [
      "{'a': 400, 'b': 400, 'c': 300, 'd': 400}\n"
     ]
    }
   ],
   "source": [
    "d1 = {'a': 100, 'b': 200, 'c':300}\n",
    "\n",
    "d2 = {'a': 300, 'b': 200, 'd':400}\n",
    "\n",
    "d3 =dict (d1)\n",
    "d3.update (d2)\n",
    "\n",
    "for i,k in d1.items():\n",
    "    for j,h in d2.items ():\n",
    "        if i == j:\n",
    "            d3[i] = (k+h)\n",
    "print (d3)"
   ]
  },
  {
   "cell_type": "code",
   "execution_count": 2,
   "id": "7b75c679",
   "metadata": {},
   "outputs": [
    {
     "name": "stdout",
     "output_type": "stream",
     "text": [
      "8\n",
      "{1: 1, 2: 4, 3: 9, 4: 16, 5: 25, 6: 36, 7: 49, 8: 64}\n"
     ]
    }
   ],
   "source": [
    "f = int(input())\n",
    "\n",
    "h = {}\n",
    "for i in range(1,f+1):\n",
    "    h[i] = i*i\n",
    "\n",
    "print(h)"
   ]
  },
  {
   "cell_type": "code",
   "execution_count": 4,
   "id": "4a2242b7",
   "metadata": {},
   "outputs": [
    {
     "name": "stdout",
     "output_type": "stream",
     "text": [
      "[('item3', '24.5'), ('item2', '15.10'), ('item1', '12.20')]\n"
     ]
    }
   ],
   "source": [
    "m = [('item1', '12.20'), ('item2', '15.10'), ('item3', '24.5')]\n",
    "for j in range(len(m)):\n",
    "    for i in range (len(m)-1):\n",
    "        if float (m[i][1])<float(m[i+1][1]):\n",
    "            m[i],m[i+1]=m[i+1],m[i]\n",
    "            \n",
    "print(m)"
   ]
  },
  {
   "cell_type": "code",
   "execution_count": 16,
   "id": "ca1c5568",
   "metadata": {},
   "outputs": [
    {
     "name": "stdout",
     "output_type": "stream",
     "text": [
      "1\n",
      "2\n",
      "3\n",
      "4\n",
      "5\n"
     ]
    },
    {
     "ename": "AttributeError",
     "evalue": "'tuple' object has no attribute 'add'",
     "output_type": "error",
     "traceback": [
      "\u001b[0;31m---------------------------------------------------------------------------\u001b[0m",
      "\u001b[0;31mAttributeError\u001b[0m                            Traceback (most recent call last)",
      "Input \u001b[0;32mIn [16]\u001b[0m, in \u001b[0;36m<cell line: 6>\u001b[0;34m()\u001b[0m\n\u001b[1;32m      3\u001b[0m \u001b[38;5;28;01mfor\u001b[39;00m i \u001b[38;5;129;01min\u001b[39;00m g:\n\u001b[1;32m      4\u001b[0m     \u001b[38;5;28mprint\u001b[39m(i)\n\u001b[0;32m----> 6\u001b[0m \u001b[43mg\u001b[49m\u001b[43m \u001b[49m\u001b[38;5;241;43m.\u001b[39;49m\u001b[43m \u001b[49m\u001b[43madd\u001b[49m(\u001b[38;5;241m7\u001b[39m)\n\u001b[1;32m      7\u001b[0m g\n\u001b[1;32m      8\u001b[0m g \u001b[38;5;241m.\u001b[39m remove(\u001b[38;5;241m4\u001b[39m)\n",
      "\u001b[0;31mAttributeError\u001b[0m: 'tuple' object has no attribute 'add'"
     ]
    }
   ],
   "source": [
    "g=(1,2,3,4,5)\n",
    "\n",
    "for i in g:\n",
    "    print(i)\n",
    "    \n",
    "g . add(7)\n",
    "g\n",
    "g . remove(4)\n",
    "print (g)"
   ]
  },
  {
   "cell_type": "code",
   "execution_count": null,
   "id": "26e1d35a",
   "metadata": {},
   "outputs": [],
   "source": []
  }
 ],
 "metadata": {
  "kernelspec": {
   "display_name": "Python 3 (ipykernel)",
   "language": "python",
   "name": "python3"
  },
  "language_info": {
   "codemirror_mode": {
    "name": "ipython",
    "version": 3
   },
   "file_extension": ".py",
   "mimetype": "text/x-python",
   "name": "python",
   "nbconvert_exporter": "python",
   "pygments_lexer": "ipython3",
   "version": "3.9.12"
  }
 },
 "nbformat": 4,
 "nbformat_minor": 5
}
